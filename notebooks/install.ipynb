{
 "cells": [
  {
   "cell_type": "markdown",
   "metadata": {
    "hide_input": true
   },
   "source": [
    "# Entorno de trabajo"
   ]
  },
  {
   "cell_type": "markdown",
   "metadata": {},
   "source": [
    "Puesta en marcha de Python, jupyter notebooks y OpenCV.\n",
    "\n",
    "Usaremos la distribución \"Anaconda\", que se instala en cualquier directorio sin necesidad de privilegios de administración."
   ]
  },
  {
   "cell_type": "markdown",
   "metadata": {
    "tags": []
   },
   "source": [
    "## Instalación"
   ]
  },
  {
   "cell_type": "markdown",
   "metadata": {},
   "source": [
    "Clonamos [el repositorio](https://github.com/albertoruiz/umucv) con el material de la asignatura:\n",
    "\n",
    "    git clone https://github.com/albertoruiz/umucv.git\n",
    "    \n",
    "En días sucesivos lo iremos actualizando con\n",
    "\n",
    "    git pull\n",
    "    \n",
    "Otra posibilidad es descargar solo [la versión más reciente](https://github.com/albertoruiz/umucv/archive/master.zip):\n",
    "\n",
    "    wget https://github.com/albertoruiz/umucv/archive/master.zip\n",
    "    unzip master.zip"
   ]
  },
  {
   "cell_type": "markdown",
   "metadata": {},
   "source": [
    "### LINUX"
   ]
  },
  {
   "cell_type": "markdown",
   "metadata": {},
   "source": [
    "Descargamos [miniconda](https://conda.io/miniconda.html) para nuestro sistema con python 3 y lo instalamos:\n",
    "\n",
    "    bash Miniconda3-latest-Linux-x86_64.sh\n",
    "\n",
    "Preguntará si queremos inicializar la instalación (sí). También indicará la forma de configurarlo para que si lo prefieres los terminales no arranquen automáticamente dentro del entorno base.\n",
    "\n",
    "Una vez instalado hay que cerrar el terminal y abrir otro para que los cambios tengan efecto.\n",
    "\n",
    "Comprobamos que está bien instalado:\n",
    "\n",
    "    > conda activate base\n",
    "\n",
    "    (base) usuario @ maquina> python --version\n",
    "\n",
    "    Python 3.11.5"
   ]
  },
  {
   "cell_type": "markdown",
   "metadata": {},
   "source": [
    "Luego creamos un [entorno de conda](https://conda.io/projects/conda/en/latest/user-guide/tasks/manage-environments.html) para la asignatura e instalamos los paquetes necesarios:\n",
    "\n",
    "    conda create --name via python==3.11\n",
    "    conda activate via\n",
    "    pip install -r requirements.txt"
   ]
  },
  {
   "cell_type": "markdown",
   "metadata": {},
   "source": [
    "Con esto podemos empezar a trabajar. Más adelante instalaremos otros paquetes."
   ]
  },
  {
   "cell_type": "markdown",
   "metadata": {},
   "source": [
    "Si tienes espacio en el ordenador puedes instalar lo siguiente. Incluye entre sus dependencias varios paquetes para deep learning.\n",
    "\n",
    "    pip install pymde"
   ]
  },
  {
   "cell_type": "markdown",
   "metadata": {},
   "source": [
    "Podemos añadir al final de nuestro `.bashrc` una orden `conda activate via` para que los terminales que abramos estén automáticamente en el entorno deseado."
   ]
  },
  {
   "cell_type": "markdown",
   "metadata": {},
   "source": [
    "Una opción interesante es instalar el sistema en un pendrive de modo que se pueda utilizar inmediatamente en cualquier ordenador (con linux) sin necesidad de instalar nada. Si estás interesado en esta solución consulta los detalles al profesor."
   ]
  },
  {
   "cell_type": "markdown",
   "metadata": {},
   "source": [
    "Puede ser útil:\n",
    "\n",
    "    pip install jupyter_nbextensions_configurator"
   ]
  },
  {
   "cell_type": "markdown",
   "metadata": {},
   "source": [
    "### WINDOWS\n",
    "\n",
    "Instalamos [anaconda completo](https://www.anaconda.com/distribution/#download-section).\n",
    "\n",
    "En anaconda prompt ejecutamos\n",
    "    \n",
    "    python -m pip install mediapipe\n",
    "    conda install -c conda-forge dlib\n",
    "    python -m pip install http://robot.inf.um.es/material/umucv.tar.gz\n",
    "    python -m pip install pyqtgraph pyopengl PySide6 PyQt5"
   ]
  },
  {
   "cell_type": "markdown",
   "metadata": {},
   "source": [
    "Para comprobar que la instalación es correcta abrimos un nuevo anaconda prompt, nos cambiamos al subdirectorio de la asignatura y ejecutamos algunos programa de prueba:\n",
    "\n",
    "    cd ubicacion/del/repositorio/umucv/code\n",
    "    python webcam.py\n",
    "    python stream.py\n",
    "    python stream.py --dev=../images/rot4.mjpg\n",
    "    python surface.py\n",
    "    "
   ]
  },
  {
   "cell_type": "markdown",
   "metadata": {},
   "source": [
    "Otra posibilidad es utilizar el Subsistema Linux de Windows (WSL), como se explica en [este notebook](WSL.ipynb) realizado por vuestro compañero Vladyslav Grechyshkin."
   ]
  },
  {
   "cell_type": "markdown",
   "metadata": {},
   "source": [
    "### MAC\n",
    "\n",
    "Las instrucciones de instalación se explican en [este notebook](MAC.ipynb) realizado por vuestro compañero Eduardo Salmerón Castaño.\n",
    "\n",
    "Las instrucciones de instalación para el Mac M1 se explican en [este notebook](MAC-M1.ipynb) realizado por vuestro compañero José Luis Mellina Andreu."
   ]
  },
  {
   "cell_type": "markdown",
   "metadata": {},
   "source": [
    "### COLAB"
   ]
  },
  {
   "cell_type": "markdown",
   "metadata": {},
   "source": [
    "Podemos abrir los notebooks en las máquinas de google, que tienen instalados casi todos los paquetes necesarios. (Hay que descargar cada vez las imágenes de ejemplo y otros archivos auxiliares o leerlos de ubicaciones remotas.) Son especialmente útiles para experimentos de Deep Learning porque permiten utilizar GPUs y TPUs.\n",
    "\n",
    "[https://colab.research.google.com/github/albertoruiz/umucv/blob/master/notebooks/VIA.ipynb](https://colab.research.google.com/github/albertoruiz/umucv/blob/master/notebooks/VIA.ipynb)"
   ]
  },
  {
   "cell_type": "markdown",
   "metadata": {},
   "source": [
    "## Versiones"
   ]
  },
  {
   "cell_type": "code",
   "execution_count": null,
   "metadata": {
    "tags": []
   },
   "outputs": [],
   "source": [
    "from platform import python_version\n",
    "print(f'python      {python_version()}')\n",
    "import numpy\n",
    "print(f'numpy       {numpy.__version__}')\n",
    "import matplotlib\n",
    "print(f'matplotlib  {matplotlib.__version__}')\n",
    "import sklearn\n",
    "print(f'sklearn     {sklearn.__version__}')\n",
    "import cv2\n",
    "print(f'OpenCV      {cv2.__version__}')"
   ]
  },
  {
   "cell_type": "markdown",
   "metadata": {},
   "source": [
    "## Prueba rápida"
   ]
  },
  {
   "cell_type": "markdown",
   "metadata": {},
   "source": [
    "En primer lugar importamos las bibliotecas necesarias."
   ]
  },
  {
   "cell_type": "code",
   "execution_count": null,
   "metadata": {
    "hide_input": false
   },
   "outputs": [],
   "source": [
    "import numpy             as np\n",
    "import cv2               as cv\n",
    "import matplotlib.pyplot as plt"
   ]
  },
  {
   "cell_type": "markdown",
   "metadata": {},
   "source": [
    "Para leer imágenes se puede usar `imread` de opencv:"
   ]
  },
  {
   "cell_type": "code",
   "execution_count": null,
   "metadata": {
    "scrolled": true
   },
   "outputs": [],
   "source": [
    "img = cv.imread('../images/coins.png')\n",
    "print(type(img))\n",
    "print(img.shape)\n",
    "#print(img)"
   ]
  },
  {
   "cell_type": "code",
   "execution_count": null,
   "metadata": {},
   "outputs": [],
   "source": [
    "plt.imshow(img)\n",
    "plt.axis('off');"
   ]
  },
  {
   "cell_type": "markdown",
   "metadata": {},
   "source": [
    "El problema es que intercambia los canales R y B. Es una curiosidad de OpenCV, que nos encontreremos muchas veces.\n",
    "\n",
    "Para arreglarlo usamos la función que convierte espacios de color."
   ]
  },
  {
   "cell_type": "code",
   "execution_count": null,
   "metadata": {},
   "outputs": [],
   "source": [
    "plt.imshow(cv.cvtColor(img,cv.COLOR_BGR2RGB));"
   ]
  },
  {
   "cell_type": "markdown",
   "metadata": {},
   "source": [
    "Podemos intercambiar los canales aprovechando las posibilidades de indexado de arrays de numpy:"
   ]
  },
  {
   "cell_type": "code",
   "execution_count": null,
   "metadata": {},
   "outputs": [],
   "source": [
    "plt.imshow(img[:50,400:500,[2,1,0]]);"
   ]
  },
  {
   "cell_type": "markdown",
   "metadata": {},
   "source": [
    "Otra posibilidad es usar `imread` de skimage, que además puede leer de url remotas."
   ]
  },
  {
   "cell_type": "code",
   "execution_count": null,
   "metadata": {},
   "outputs": [],
   "source": [
    "from skimage import io\n",
    "\n",
    "path = \"https://github.com/albertoruiz/umucv/raw/master/images/\"\n",
    "\n",
    "view = io.imread(path+\"plate.jpg\")\n",
    "plt.imshow(view);"
   ]
  },
  {
   "cell_type": "code",
   "execution_count": null,
   "metadata": {},
   "outputs": [],
   "source": [
    "plt.imshow(io.imread(\"../images/monty-python1.jpg\"));"
   ]
  },
  {
   "cell_type": "markdown",
   "metadata": {},
   "source": [
    "También tenemos [pillow](https://pillow.readthedocs.io/en/stable/index.html):"
   ]
  },
  {
   "cell_type": "code",
   "execution_count": null,
   "metadata": {},
   "outputs": [],
   "source": [
    "import PIL\n",
    "\n",
    "plt.imshow(np.array(PIL.Image.open(\"../images/coins.png\")));"
   ]
  },
  {
   "cell_type": "markdown",
   "metadata": {},
   "source": [
    "## Programas de ejemplo"
   ]
  },
  {
   "cell_type": "markdown",
   "metadata": {},
   "source": [
    "En las prácticas normalmente trabajaremos con programas interactivos que trabajan con imágenes en vivo. Vamos a comprobar que funcionan correctamente."
   ]
  },
  {
   "cell_type": "markdown",
   "metadata": {},
   "source": [
    "En un terminal:\n",
    "\n",
    "    cd path/to/umucv/code\n",
    "    \n",
    "    ./stream.py --dev=../images/rot4.mjpg\n",
    "\n",
    "Si tienes una webcam conectada:\n",
    "\n",
    "    ./stream.py\n",
    "\n",
    "    ./surface.py\n",
    "\n",
    "    ./facemesh.py\n",
    "\n",
    "Otros ejemplos:\n",
    "\n",
    "    cd pose\n",
    "    ./pose3D.py      --dev=../../images/rot4.mjpg\n",
    "    ./pose_opengl.py --dev=../../images/rot4.mjpg\n",
    "    cd ..\n",
    "    \n",
    "    cd ../data\n",
    "    ./get.sh\n",
    "    cd  ../code/hog\n",
    "    ./facelandmarks.py"
   ]
  },
  {
   "cell_type": "markdown",
   "metadata": {},
   "source": [
    "Si alguno de estos ejemplos no funciona el día de la instalación no te preocupes, tendremos tiempo de instalar los paquetes necesarios más adelante.\n",
    "\n",
    "Lo importante al principio de la asignatura es que funcione el ejemplo `stream.py`."
   ]
  }
 ],
 "metadata": {
  "hide_input": false,
  "kernelspec": {
   "display_name": "Python 3 (ipykernel)",
   "language": "python",
   "name": "python3"
  },
  "language_info": {
   "codemirror_mode": {
    "name": "ipython",
    "version": 3
   },
   "file_extension": ".py",
   "mimetype": "text/x-python",
   "name": "python",
   "nbconvert_exporter": "python",
   "pygments_lexer": "ipython3",
   "version": "3.11.5"
  },
  "varInspector": {
   "cols": {
    "lenName": 16,
    "lenType": 16,
    "lenVar": 40
   },
   "kernels_config": {
    "python": {
     "delete_cmd_postfix": "",
     "delete_cmd_prefix": "del ",
     "library": "var_list.py",
     "varRefreshCmd": "print(var_dic_list())"
    },
    "r": {
     "delete_cmd_postfix": ") ",
     "delete_cmd_prefix": "rm(",
     "library": "var_list.r",
     "varRefreshCmd": "cat(var_dic_list()) "
    }
   },
   "types_to_exclude": [
    "module",
    "function",
    "builtin_function_or_method",
    "instance",
    "_Feature"
   ],
   "window_display": false
  }
 },
 "nbformat": 4,
 "nbformat_minor": 4
}
